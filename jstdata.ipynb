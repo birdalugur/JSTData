{
 "cells": [
  {
   "cell_type": "code",
   "execution_count": null,
   "metadata": {
    "scrolled": true
   },
   "outputs": [],
   "source": [
    "import pandas as pd\n",
    "import plotly.graph_objects as go\n",
    "import plotly.offline as offline\n",
    "import plotly.express as px"
   ]
  },
  {
   "cell_type": "code",
   "execution_count": null,
   "metadata": {
    "scrolled": true
   },
   "outputs": [],
   "source": [
    "data = pd.read_excel('data/JSTdatasetR4.xlsx',sheet_name='Data')\n",
    "\n",
    "all_countries = data['iso'].unique().tolist()\n",
    "\n",
    "data = data.set_index(['year','iso'])"
   ]
  },
  {
   "cell_type": "markdown",
   "metadata": {},
   "source": [
    "## Oran hesaplama"
   ]
  },
  {
   "cell_type": "code",
   "execution_count": null,
   "metadata": {
    "scrolled": true
   },
   "outputs": [],
   "source": [
    "# imports/gdp\n",
    "data_ig = data.groupby(level=1).apply(lambda x: x['imports'] / x['gdp']).droplevel(2)\n",
    "\n",
    "# exports/gdp\n",
    "data_eg = data.groupby(level=1).apply(lambda x: x['exports'] / x['gdp']).droplevel(2)"
   ]
  },
  {
   "cell_type": "markdown",
   "metadata": {},
   "source": [
    "## Dünya ortalaması"
   ]
  },
  {
   "cell_type": "code",
   "execution_count": null,
   "metadata": {
    "scrolled": true
   },
   "outputs": [],
   "source": [
    "mean_ig = data_ig.groupby(level=1).mean()\n",
    "mean_eg = data_eg.groupby(level=1).mean()\n",
    "\n",
    "mean_ig.name = 'mean_ig'\n",
    "mean_eg.name = 'mean_eg'\n",
    "\n",
    "mean_series = pd.concat([mean_ig,mean_eg],axis=1)"
   ]
  },
  {
   "cell_type": "code",
   "execution_count": null,
   "metadata": {
    "scrolled": true
   },
   "outputs": [],
   "source": [
    "def fill_scatter(d):\n",
    "    sclist=[]\n",
    "    for country in all_countries:\n",
    "        _data= d[country].sort_index()\n",
    "        sclist.append(\n",
    "            go.Scatter(\n",
    "                x=_data.index,y=_data.values,name=country\n",
    "            )\n",
    "        )\n",
    "    return sclist"
   ]
  },
  {
   "cell_type": "code",
   "execution_count": null,
   "metadata": {
    "scrolled": true
   },
   "outputs": [],
   "source": [
    "ig_layout = {\n",
    "    'title': 'imports/gdp',\n",
    "    'xaxis_title': 'Year',\n",
    "    'yaxis_title':'Rate'\n",
    "}\n",
    "eg_layout = {\n",
    "    'title': 'exports/gdp',\n",
    "    'xaxis_title': 'Year',\n",
    "    'yaxis_title':'Rate'\n",
    "}"
   ]
  },
  {
   "cell_type": "code",
   "execution_count": null,
   "metadata": {
    "scrolled": true
   },
   "outputs": [],
   "source": [
    "fig_ig = go.Figure(layout=ig_layout)\n",
    "fig_eg = go.Figure(layout=eg_layout)"
   ]
  },
  {
   "cell_type": "code",
   "execution_count": null,
   "metadata": {
    "scrolled": false
   },
   "outputs": [],
   "source": [
    "fig_ig.add_traces(fill_scatter(data_ig))\n",
    "fig_eg.add_traces(fill_scatter(data_eg))"
   ]
  },
  {
   "cell_type": "code",
   "execution_count": null,
   "metadata": {
    "scrolled": true
   },
   "outputs": [],
   "source": [
    "mean_plot = px.line(mean_series)"
   ]
  },
  {
   "cell_type": "code",
   "execution_count": null,
   "metadata": {
    "scrolled": true
   },
   "outputs": [],
   "source": [
    "offline.plot(fig_ig)\n",
    "offline.plot(fig_eg)\n",
    "offline.plot(mean_plot)"
   ]
  },
  {
   "cell_type": "code",
   "execution_count": null,
   "metadata": {
    "scrolled": true
   },
   "outputs": [],
   "source": []
  },
  {
   "cell_type": "code",
   "execution_count": null,
   "metadata": {
    "scrolled": true
   },
   "outputs": [],
   "source": []
  }
 ],
 "metadata": {
  "kernelspec": {
   "display_name": "Python 3",
   "language": "python",
   "name": "python3"
  },
  "language_info": {
   "codemirror_mode": {
    "name": "ipython",
    "version": 3
   },
   "file_extension": ".py",
   "mimetype": "text/x-python",
   "name": "python",
   "nbconvert_exporter": "python",
   "pygments_lexer": "ipython3",
   "version": "3.6.9"
  }
 },
 "nbformat": 4,
 "nbformat_minor": 4
}
