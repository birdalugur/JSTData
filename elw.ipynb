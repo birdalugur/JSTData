{
 "cells": [
  {
   "cell_type": "markdown",
   "metadata": {},
   "source": [
    "## Import Packages"
   ]
  },
  {
   "cell_type": "code",
   "execution_count": null,
   "metadata": {},
   "outputs": [],
   "source": [
    "from math import floor\n",
    "\n",
    "import pandas as pd\n",
    "import numpy as np\n",
    "\n",
    "import plotly.graph_objects as go\n",
    "import plotly.offline as offline\n",
    "\n",
    "from rpy2.robjects.packages import importr # Import R Library\n",
    "from rpy2.robjects import FloatVector # Converting data to R format\n",
    "from rpy2.robjects import r # Calling R functions\n",
    "\n",
    "importr('LongMemoryTS')"
   ]
  },
  {
   "cell_type": "markdown",
   "metadata": {},
   "source": [
    "## Reading Data"
   ]
  },
  {
   "cell_type": "code",
   "execution_count": null,
   "metadata": {},
   "outputs": [],
   "source": [
    "data = pd.read_excel('data/JSTdatasetR4.xlsx', sheet_name='Data').set_index(['year', 'iso'])\n",
    "all_countries = data.index.get_level_values('iso').unique().to_list()"
   ]
  },
  {
   "cell_type": "markdown",
   "metadata": {},
   "source": [
    "## Functions to calculate and plot ln differences."
   ]
  },
  {
   "cell_type": "code",
   "execution_count": null,
   "metadata": {},
   "outputs": [],
   "source": [
    "def calculateLn(variable: str, country: str) -> pd.Series:\n",
    "    \"\"\"\n",
    "    ln(rgdpmad)x - ln(rgdpmad)usa\n",
    "    \"\"\"\n",
    "\n",
    "    ln_base = np.log(data.xs(country, level='iso')[variable])\n",
    "    res = data.groupby(level='iso', group_keys=False).apply(lambda x: np.log(x[variable]) - ln_base)\n",
    "    return res.drop(countryntry,level='iso')\n",
    "\n",
    "\n",
    "def plot_ln(fig_data,xlabel,ylabel):\n",
    "    ln_fig = go.Figure(layout={'xaxis_title':xlabel,'yaxis_title':ylabel})\n",
    "    trace_list = []\n",
    "    fig_data.groupby(level='iso')\\\n",
    "        .apply(lambda x: trace_list.append(go.Scatter(x=x.index.get_level_values('year'),y=x.values,name=x.index[0][1])))\n",
    "    ln_fig.add_traces(trace_list)\n",
    "    offline.plot(ln_fig,filename='lndiff.html')"
   ]
  },
  {
   "cell_type": "code",
   "execution_count": null,
   "metadata": {},
   "outputs": [],
   "source": [
    "lndiff = calculateLn(variable='rgdpmad',country='USA')\n",
    "plot_ln(lndiff, 'year', 'lndiff')"
   ]
  },
  {
   "cell_type": "code",
   "execution_count": null,
   "metadata": {},
   "outputs": [],
   "source": []
  },
  {
   "cell_type": "markdown",
   "metadata": {},
   "source": [
    "## Reading Data"
   ]
  },
  {
   "cell_type": "code",
   "execution_count": null,
   "metadata": {},
   "outputs": [],
   "source": [
    "data = pd.read_csv('lndiff.csv')"
   ]
  },
  {
   "cell_type": "code",
   "execution_count": null,
   "metadata": {
    "scrolled": true
   },
   "outputs": [],
   "source": [
    "data = data.set_index(['year','iso']).drop('USA',level=1)"
   ]
  },
  {
   "cell_type": "code",
   "execution_count": null,
   "metadata": {},
   "outputs": [],
   "source": [
    "def elw(data,start_year:int, delta:float=0.7,s2=False) -> dict:\n",
    "    \"\"\"\n",
    "    Exact local Whittle estimator of the fractional difference parameter d\n",
    "    for stationary and non-stationary long memory.\n",
    "    \"\"\"\n",
    "    \n",
    "    data = data[data.index.get_level_values('year')>=2000]\n",
    "    T = len(data)\n",
    "    d = FloatVector(data)\n",
    "    m = floor(1 + pow(T,delta))\n",
    "    \n",
    "    if s2==True:\n",
    "        result = r['ELW2S'](d, m)\n",
    "    else:\n",
    "        result = r['ELW'](d, m)\n",
    "    \n",
    "    d_val = list(result.rx2('d'))[0]\n",
    "    se_val = list(result.rx('s.e.')[0])[0]\n",
    "    \n",
    "    return {'d':d_val,'se':se_val}"
   ]
  },
  {
   "cell_type": "code",
   "execution_count": null,
   "metadata": {
    "scrolled": true
   },
   "outputs": [],
   "source": [
    "elw_df = lndiff.groupby(level='iso').apply(elw, start_year=2005)"
   ]
  },
  {
   "cell_type": "code",
   "execution_count": null,
   "metadata": {},
   "outputs": [],
   "source": [
    "elw2s_df = lndiff.groupby(level='iso').apply(elw,start_year=2005, delta=0.4, s2=True)"
   ]
  },
  {
   "cell_type": "code",
   "execution_count": null,
   "metadata": {},
   "outputs": [],
   "source": [
    "elwdata= pd.merge(elw_df,elw2s_df,how='outer',left_index=True,right_index=True,suffixes=('_ELW','_ELW2S'))"
   ]
  },
  {
   "cell_type": "code",
   "execution_count": null,
   "metadata": {},
   "outputs": [],
   "source": [
    "elwdata.to_csv('elwdata.csv')"
   ]
  }
 ],
 "metadata": {
  "kernelspec": {
   "display_name": "Python 3",
   "language": "python",
   "name": "python3"
  },
  "language_info": {
   "codemirror_mode": {
    "name": "ipython",
    "version": 3
   },
   "file_extension": ".py",
   "mimetype": "text/x-python",
   "name": "python",
   "nbconvert_exporter": "python",
   "pygments_lexer": "ipython3",
   "version": "3.7.7"
  }
 },
 "nbformat": 4,
 "nbformat_minor": 4
}
