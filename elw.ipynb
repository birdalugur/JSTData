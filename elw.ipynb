{
 "cells": [
  {
   "cell_type": "markdown",
   "metadata": {},
   "source": [
    "## Import Packages"
   ]
  },
  {
   "cell_type": "code",
   "execution_count": null,
   "metadata": {},
   "outputs": [],
   "source": [
    "from math import floor\n",
    "\n",
    "import pandas as pd\n",
    "\n",
    "from rpy2.robjects.packages import importr # Import R Library\n",
    "from rpy2.robjects import FloatVector # Converting data to R format\n",
    "from rpy2.robjects import r # Calling R functions\n",
    "\n",
    "importr('LongMemoryTS')"
   ]
  },
  {
   "cell_type": "markdown",
   "metadata": {},
   "source": [
    "## Reading Data"
   ]
  },
  {
   "cell_type": "code",
   "execution_count": null,
   "metadata": {},
   "outputs": [],
   "source": [
    "data = pd.read_csv('lndiff.csv')"
   ]
  },
  {
   "cell_type": "code",
   "execution_count": null,
   "metadata": {
    "scrolled": true
   },
   "outputs": [],
   "source": [
    "data = data.set_index(['year','iso']).drop('USA',level=1)"
   ]
  },
  {
   "cell_type": "code",
   "execution_count": null,
   "metadata": {},
   "outputs": [],
   "source": []
  },
  {
   "cell_type": "code",
   "execution_count": null,
   "metadata": {},
   "outputs": [],
   "source": [
    "def elw(data, delta=0.7,s2=False) -> dict:\n",
    "    \"\"\"\n",
    "    Exact local Whittle estimator of the fractional difference parameter d\n",
    "    for stationary and non-stationary long memory.\n",
    "    \"\"\"\n",
    "    T = len(data)\n",
    "    d = FloatVector(data)\n",
    "    m = floor(1 + pow(T,delta))\n",
    "    \n",
    "    if s2==True:\n",
    "        result = r['ELW2S'](d, m)\n",
    "    else:\n",
    "        result = r['ELW'](d, m)\n",
    "    \n",
    "    d_val = list(result.rx2('d'))[0]\n",
    "    se_val = list(result.rx('s.e.')[0])[0]\n",
    "    \n",
    "    return {'d':d_val,'se':se_val}"
   ]
  },
  {
   "cell_type": "code",
   "execution_count": null,
   "metadata": {
    "scrolled": true
   },
   "outputs": [],
   "source": [
    "elw_df = data.groupby(level='iso')['rgdpmad'].apply(elw)"
   ]
  },
  {
   "cell_type": "code",
   "execution_count": null,
   "metadata": {},
   "outputs": [],
   "source": [
    "elw2s_df = data.groupby(level='iso')['rgdpmad'].apply(elw,True)"
   ]
  },
  {
   "cell_type": "code",
   "execution_count": null,
   "metadata": {},
   "outputs": [],
   "source": [
    "elwdata= pd.concat([elw_df,elw2s_df],axis=1)"
   ]
  },
  {
   "cell_type": "code",
   "execution_count": null,
   "metadata": {},
   "outputs": [],
   "source": [
    "elwdata.columns = ['elw','elw2s']"
   ]
  },
  {
   "cell_type": "code",
   "execution_count": null,
   "metadata": {},
   "outputs": [],
   "source": [
    "elwdata.to_csv('elwdata.csv')"
   ]
  },
  {
   "cell_type": "code",
   "execution_count": null,
   "metadata": {},
   "outputs": [],
   "source": []
  },
  {
   "cell_type": "code",
   "execution_count": null,
   "metadata": {},
   "outputs": [],
   "source": []
  }
 ],
 "metadata": {
  "kernelspec": {
   "display_name": "Python 3",
   "language": "python",
   "name": "python3"
  },
  "language_info": {
   "codemirror_mode": {
    "name": "ipython",
    "version": 3
   },
   "file_extension": ".py",
   "mimetype": "text/x-python",
   "name": "python",
   "nbconvert_exporter": "python",
   "pygments_lexer": "ipython3",
   "version": "3.7.7"
  }
 },
 "nbformat": 4,
 "nbformat_minor": 4
}
